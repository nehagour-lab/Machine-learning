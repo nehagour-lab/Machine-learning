{
 "cells": [
  {
   "cell_type": "code",
   "execution_count": 1,
   "id": "058c6f7f-718d-45e9-a157-dc8e104e80ad",
   "metadata": {
    "tags": []
   },
   "outputs": [],
   "source": [
    "#Cross validation instead of train_test_split"
   ]
  },
  {
   "cell_type": "code",
   "execution_count": 3,
   "id": "ce14cb46-f69e-432a-bf2b-489810489f45",
   "metadata": {
    "tags": []
   },
   "outputs": [],
   "source": [
    "from sklearn.datasets import load_iris\n",
    "import numpy as np\n",
    "import pandas as pd\n",
    "import matplotlib.pyplot as plt"
   ]
  },
  {
   "cell_type": "code",
   "execution_count": 4,
   "id": "60acdbf0-503e-4e88-b909-7fa2ec63bce2",
   "metadata": {
    "collapsed": true,
    "jupyter": {
     "outputs_hidden": true
    },
    "tags": []
   },
   "outputs": [
    {
     "name": "stdout",
     "output_type": "stream",
     "text": [
      "data loaded\n"
     ]
    }
   ],
   "source": [
    "iris_data = load_iris()\n",
    "print('data loaded')"
   ]
  },
  {
   "cell_type": "code",
   "execution_count": 9,
   "id": "3bf4a2a0-6e0d-4846-8f00-48e233fb366f",
   "metadata": {
    "tags": []
   },
   "outputs": [
    {
     "data": {
      "text/plain": [
       "['setosa', 'versicolor', 'virginica']"
      ]
     },
     "execution_count": 9,
     "metadata": {},
     "output_type": "execute_result"
    }
   ],
   "source": [
    "list(iris_data.target_names)"
   ]
  },
  {
   "cell_type": "code",
   "execution_count": 14,
   "id": "6b3a1b0e-b23e-4b8f-bfd4-c49d90db542a",
   "metadata": {
    "tags": []
   },
   "outputs": [
    {
     "data": {
      "text/plain": [
       "array([0, 0, 0, 0, 0, 0, 0, 0, 0, 0, 0, 0, 0, 0, 0, 0, 0, 0, 0, 0, 0, 0,\n",
       "       0, 0, 0, 0, 0, 0, 0, 0, 0, 0, 0, 0, 0, 0, 0, 0, 0, 0, 0, 0, 0, 0,\n",
       "       0, 0, 0, 0, 0, 0, 1, 1, 1, 1, 1, 1, 1, 1, 1, 1, 1, 1, 1, 1, 1, 1,\n",
       "       1, 1, 1, 1, 1, 1, 1, 1, 1, 1, 1, 1, 1, 1, 1, 1, 1, 1, 1, 1, 1, 1,\n",
       "       1, 1, 1, 1, 1, 1, 1, 1, 1, 1, 1, 1, 2, 2, 2, 2, 2, 2, 2, 2, 2, 2,\n",
       "       2, 2, 2, 2, 2, 2, 2, 2, 2, 2, 2, 2, 2, 2, 2, 2, 2, 2, 2, 2, 2, 2,\n",
       "       2, 2, 2, 2, 2, 2, 2, 2, 2, 2, 2, 2, 2, 2, 2, 2, 2, 2])"
      ]
     },
     "execution_count": 14,
     "metadata": {},
     "output_type": "execute_result"
    }
   ],
   "source": [
    "iris_data.target"
   ]
  },
  {
   "cell_type": "code",
   "execution_count": 15,
   "id": "3aba57da-9958-4446-b5f0-a8b6988e754d",
   "metadata": {
    "tags": []
   },
   "outputs": [
    {
     "data": {
      "text/plain": [
       "['sepal length (cm)',\n",
       " 'sepal width (cm)',\n",
       " 'petal length (cm)',\n",
       " 'petal width (cm)']"
      ]
     },
     "execution_count": 15,
     "metadata": {},
     "output_type": "execute_result"
    }
   ],
   "source": [
    "list(iris_data.feature_names)"
   ]
  },
  {
   "cell_type": "code",
   "execution_count": 20,
   "id": "2800e31b-9109-47ea-aa9c-f4c70892aabe",
   "metadata": {
    "tags": []
   },
   "outputs": [],
   "source": [
    "data_in = iris_data.data #Input\n",
    "data_out = iris_data.target #Output"
   ]
  },
  {
   "cell_type": "code",
   "execution_count": 38,
   "id": "a6e3b00a-dccf-48a9-b03a-b2ac89babb78",
   "metadata": {
    "collapsed": true,
    "jupyter": {
     "outputs_hidden": true
    },
    "tags": []
   },
   "outputs": [
    {
     "name": "stdout",
     "output_type": "stream",
     "text": [
      "\n",
      " TRAIN_SET\n",
      "[  0   1   2   4   5   6   7   8   9  10  11  12  13  14  16  18  19  20\n",
      "  21  22  23  24  25  26  27  28  29  30  31  32  33  34  35  37  39  40\n",
      "  41  42  43  44  45  46  47  48  50  51  52  53  54  55  56  57  59  60\n",
      "  61  62  63  65  66  67  68  69  70  71  73  74  75  76  77  78  79  80\n",
      "  81  82  84  85  86  87  88  90  92  93  94  95  96  97  99 100 101 102\n",
      " 103 105 107 108 109 110 111 112 113 114 115 116 117 118 119 120 121 122\n",
      " 123 124 125 126 127 128 129 130 131 132 133 134 135 136 137 138 139 140\n",
      " 141 142 143 144 145 146 147 148 149]\n",
      "\n",
      " TEST_SET\n",
      "[  3  15  17  36  38  49  58  64  72  83  89  91  98 104 106]\n",
      "\n",
      " TRAIN_SET\n",
      "[  0   1   2   3   4   5   6   7  10  11  12  13  14  15  16  17  18  20\n",
      "  21  22  23  24  25  26  27  28  29  30  31  32  33  34  36  38  39  40\n",
      "  41  42  43  44  46  47  48  49  50  51  52  53  54  56  57  58  59  60\n",
      "  61  62  63  64  65  66  67  68  69  70  71  72  73  74  75  76  77  80\n",
      "  81  82  83  84  85  86  87  88  89  90  91  92  93  95  97  98  99 100\n",
      " 101 102 103 104 105 106 107 109 111 112 113 114 115 116 117 118 119 120\n",
      " 121 122 123 124 125 126 127 128 129 130 131 132 133 134 135 136 138 139\n",
      " 140 141 142 144 145 146 147 148 149]\n",
      "\n",
      " TEST_SET\n",
      "[  8   9  19  35  37  45  55  78  79  94  96 108 110 137 143]\n",
      "\n",
      " TRAIN_SET\n",
      "[  0   1   2   3   4   5   6   7   8   9  10  11  12  13  14  15  16  17\n",
      "  18  19  20  21  22  23  24  25  26  27  28  29  31  33  34  35  36  37\n",
      "  38  39  40  41  42  43  44  45  46  47  48  49  50  51  52  53  55  56\n",
      "  57  58  59  60  61  62  63  64  66  67  68  69  70  71  72  73  74  75\n",
      "  76  77  78  79  80  81  82  83  84  85  86  87  88  89  90  91  93  94\n",
      "  95  96  97  98  99 100 101 102 103 104 105 106 107 108 110 111 112 113\n",
      " 115 116 117 118 119 120 122 123 124 126 127 128 129 130 132 133 136 137\n",
      " 138 139 141 142 143 144 147 148 149]\n",
      "\n",
      " TEST_SET\n",
      "[ 30  32  54  65  92 109 114 121 125 131 134 135 140 145 146]\n",
      "\n",
      " TRAIN_SET\n",
      "[  0   1   2   3   4   6   7   8   9  10  11  12  13  14  15  16  17  18\n",
      "  19  20  22  23  24  25  26  28  29  30  31  32  33  34  35  36  37  38\n",
      "  39  40  41  42  44  45  46  47  49  50  51  52  53  54  55  57  58  59\n",
      "  60  61  63  64  65  66  68  69  70  71  72  73  74  75  76  77  78  79\n",
      "  80  81  82  83  84  85  86  87  88  89  90  91  92  94  96  97  98  99\n",
      " 100 101 102 104 105 106 107 108 109 110 111 112 114 115 116 117 118 119\n",
      " 120 121 123 125 126 127 128 129 131 132 133 134 135 136 137 138 139 140\n",
      " 141 142 143 144 145 146 147 148 149]\n",
      "\n",
      " TEST_SET\n",
      "[  5  21  27  43  48  56  62  67  93  95 103 113 122 124 130]\n",
      "\n",
      " TRAIN_SET\n",
      "[  1   2   3   5   6   7   8   9  10  11  13  14  15  16  17  19  21  22\n",
      "  23  24  25  26  27  29  30  31  32  33  34  35  36  37  38  40  41  42\n",
      "  43  44  45  46  47  48  49  50  51  53  54  55  56  58  59  60  61  62\n",
      "  63  64  65  66  67  68  69  70  72  74  77  78  79  80  81  82  83  84\n",
      "  85  86  87  88  89  90  91  92  93  94  95  96  97  98 100 101 102 103\n",
      " 104 106 107 108 109 110 111 112 113 114 115 116 117 118 119 120 121 122\n",
      " 123 124 125 126 127 128 129 130 131 132 133 134 135 136 137 138 139 140\n",
      " 141 142 143 144 145 146 147 148 149]\n",
      "\n",
      " TEST_SET\n",
      "[  0   4  12  18  20  28  39  52  57  71  73  75  76  99 105]\n",
      "\n",
      " TRAIN_SET\n",
      "[  0   1   2   3   4   5   6   7   8   9  10  12  13  15  17  18  19  20\n",
      "  21  23  27  28  29  30  31  32  33  34  35  36  37  38  39  40  41  42\n",
      "  43  44  45  48  49  50  51  52  53  54  55  56  57  58  59  60  61  62\n",
      "  63  64  65  66  67  68  69  70  71  72  73  74  75  76  77  78  79  80\n",
      "  81  82  83  84  85  88  89  90  91  92  93  94  95  96  97  98  99 100\n",
      " 103 104 105 106 107 108 109 110 112 113 114 115 116 117 118 119 120 121\n",
      " 122 123 124 125 126 127 128 129 130 131 132 133 134 135 137 138 139 140\n",
      " 141 142 143 144 145 146 147 148 149]\n",
      "\n",
      " TEST_SET\n",
      "[ 11  14  16  22  24  25  26  46  47  86  87 101 102 111 136]\n",
      "\n",
      " TRAIN_SET\n",
      "[  0   2   3   4   5   7   8   9  11  12  14  15  16  17  18  19  20  21\n",
      "  22  23  24  25  26  27  28  29  30  31  32  33  34  35  36  37  38  39\n",
      "  40  41  42  43  44  45  46  47  48  49  51  52  53  54  55  56  57  58\n",
      "  59  60  61  62  63  64  65  66  67  70  71  72  73  74  75  76  77  78\n",
      "  79  80  81  82  83  86  87  88  89  90  91  92  93  94  95  96  98  99\n",
      " 100 101 102 103 104 105 106 107 108 109 110 111 113 114 115 116 117 118\n",
      " 119 121 122 123 124 125 126 127 128 129 130 131 133 134 135 136 137 138\n",
      " 139 140 142 143 144 145 146 147 148]\n",
      "\n",
      " TEST_SET\n",
      "[  1   6  10  13  50  68  69  84  85  97 112 120 132 141 149]\n",
      "\n",
      " TRAIN_SET\n",
      "[  0   1   3   4   5   6   7   8   9  10  11  12  13  14  15  16  17  18\n",
      "  19  20  21  22  24  25  26  27  28  30  31  32  33  34  35  36  37  38\n",
      "  39  40  43  44  45  46  47  48  49  50  51  52  54  55  56  57  58  59\n",
      "  60  61  62  63  64  65  66  67  68  69  70  71  72  73  74  75  76  78\n",
      "  79  81  82  83  84  85  86  87  88  89  90  91  92  93  94  95  96  97\n",
      "  98  99 100 101 102 103 104 105 106 107 108 109 110 111 112 113 114 116\n",
      " 117 120 121 122 124 125 128 129 130 131 132 133 134 135 136 137 139 140\n",
      " 141 142 143 144 145 146 147 148 149]\n",
      "\n",
      " TEST_SET\n",
      "[  2  23  29  41  42  53  77  80 115 118 119 123 126 127 138]\n",
      "\n",
      " TRAIN_SET\n",
      "[  0   1   2   3   4   5   6   7   8   9  10  11  12  13  14  15  16  17\n",
      "  18  19  20  21  22  23  24  25  26  27  28  29  30  31  32  33  34  35\n",
      "  36  37  38  39  41  42  43  45  46  47  48  49  50  51  52  53  54  55\n",
      "  56  57  58  59  61  62  64  65  67  68  69  70  71  72  73  75  76  77\n",
      "  78  79  80  82  83  84  85  86  87  89  91  92  93  94  95  96  97  98\n",
      "  99 101 102 103 104 105 106 108 109 110 111 112 113 114 115 116 118 119\n",
      " 120 121 122 123 124 125 126 127 129 130 131 132 134 135 136 137 138 139\n",
      " 140 141 142 143 144 145 146 147 149]\n",
      "\n",
      " TEST_SET\n",
      "[ 40  44  60  63  66  74  81  88  90 100 107 117 128 133 148]\n",
      "\n",
      " TRAIN_SET\n",
      "[  0   1   2   3   4   5   6   8   9  10  11  12  13  14  15  16  17  18\n",
      "  19  20  21  22  23  24  25  26  27  28  29  30  32  35  36  37  38  39\n",
      "  40  41  42  43  44  45  46  47  48  49  50  52  53  54  55  56  57  58\n",
      "  60  62  63  64  65  66  67  68  69  71  72  73  74  75  76  77  78  79\n",
      "  80  81  83  84  85  86  87  88  89  90  91  92  93  94  95  96  97  98\n",
      "  99 100 101 102 103 104 105 106 107 108 109 110 111 112 113 114 115 117\n",
      " 118 119 120 121 122 123 124 125 126 127 128 130 131 132 133 134 135 136\n",
      " 137 138 140 141 143 145 146 148 149]\n",
      "\n",
      " TEST_SET\n",
      "[  7  31  33  34  51  59  61  70  82 116 129 139 142 144 147]\n"
     ]
    }
   ],
   "source": [
    "#apply K-fold crossvalidation instead train_test_split\n",
    "from sklearn.model_selection import KFold\n",
    "kf = KFold(n_splits=10, shuffle=True) #partitioned into 10 folds\n",
    "kf\n",
    "for train_set , test_set in kf.split(data_in):\n",
    "    print(\"\\n TRAIN_SET\")\n",
    "    print(train_set)\n",
    "    print(\"\\n TEST_SET\")\n",
    "    print(test_set )\n",
    "    "
   ]
  },
  {
   "cell_type": "code",
   "execution_count": 40,
   "id": "34f1f7a0-ae00-4f4a-9a8e-cdd1b3898dfd",
   "metadata": {
    "tags": []
   },
   "outputs": [
    {
     "name": "stdout",
     "output_type": "stream",
     "text": [
      "(150, 4)\n"
     ]
    }
   ],
   "source": [
    "print(iris_data.data.shape)"
   ]
  },
  {
   "cell_type": "code",
   "execution_count": 52,
   "id": "9fc6bd7c-b47e-40d8-bb8e-e478a9bda0aa",
   "metadata": {
    "tags": []
   },
   "outputs": [
    {
     "name": "stdout",
     "output_type": "stream",
     "text": [
      "[1.         0.93333333 1.         0.93333333 0.93333333 0.86666667\n",
      " 0.93333333 0.93333333 1.         1.        ]\n",
      "accuracy= 96.0\n"
     ]
    }
   ],
   "source": [
    "#apply decesion tree classifier\n",
    "from sklearn.tree import DecisionTreeClassifier\n",
    "dtc = DecisionTreeClassifier()\n",
    "from sklearn.model_selection import cross_val_score\n",
    "print(cross_val_score(dtc, data_in, data_out, scoring='accuracy', cv =10))\n",
    "accuracy=cross_val_score(dtc, data_in, data_out, scoring='accuracy', cv =10).mean()*100\n",
    "print ('accuracy=', accuracy)"
   ]
  },
  {
   "cell_type": "code",
   "execution_count": null,
   "id": "bfaaa237-59a8-4128-9765-e7ce12d578e9",
   "metadata": {},
   "outputs": [],
   "source": []
  },
  {
   "cell_type": "code",
   "execution_count": null,
   "id": "27cd914a-880e-4890-944a-07568abf624f",
   "metadata": {},
   "outputs": [],
   "source": []
  }
 ],
 "metadata": {
  "kernelspec": {
   "display_name": "Python 3 (ipykernel)",
   "language": "python",
   "name": "python3"
  },
  "language_info": {
   "codemirror_mode": {
    "name": "ipython",
    "version": 3
   },
   "file_extension": ".py",
   "mimetype": "text/x-python",
   "name": "python",
   "nbconvert_exporter": "python",
   "pygments_lexer": "ipython3",
   "version": "3.11.5"
  }
 },
 "nbformat": 4,
 "nbformat_minor": 5
}
