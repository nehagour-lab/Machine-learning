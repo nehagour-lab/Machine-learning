{
 "cells": [
  {
   "cell_type": "code",
   "execution_count": 51,
   "id": "b07a11e5-a5ef-4381-b4ef-86179749f2c8",
   "metadata": {
    "tags": []
   },
   "outputs": [],
   "source": [
    "import numpy as np\n",
    "import pandas as pd\n",
    "import matplotlib.pyplot as plt\n",
    "import seaborn as sns"
   ]
  },
  {
   "cell_type": "code",
   "execution_count": 52,
   "id": "a09ee974-3cd7-4826-bd2b-e8ba909b410b",
   "metadata": {
    "tags": []
   },
   "outputs": [],
   "source": [
    "data= pd.read_csv('seattleWeather_1948-2017.csv')"
   ]
  },
  {
   "cell_type": "code",
   "execution_count": 53,
   "id": "0305adbf-0bce-46c8-af1a-994a09e8d52b",
   "metadata": {
    "tags": []
   },
   "outputs": [
    {
     "data": {
      "text/html": [
       "<div>\n",
       "<style scoped>\n",
       "    .dataframe tbody tr th:only-of-type {\n",
       "        vertical-align: middle;\n",
       "    }\n",
       "\n",
       "    .dataframe tbody tr th {\n",
       "        vertical-align: top;\n",
       "    }\n",
       "\n",
       "    .dataframe thead th {\n",
       "        text-align: right;\n",
       "    }\n",
       "</style>\n",
       "<table border=\"1\" class=\"dataframe\">\n",
       "  <thead>\n",
       "    <tr style=\"text-align: right;\">\n",
       "      <th></th>\n",
       "      <th>DATE</th>\n",
       "      <th>PRCP</th>\n",
       "      <th>TMAX</th>\n",
       "      <th>TMIN</th>\n",
       "      <th>RAIN</th>\n",
       "    </tr>\n",
       "  </thead>\n",
       "  <tbody>\n",
       "    <tr>\n",
       "      <th>0</th>\n",
       "      <td>1948-01-01</td>\n",
       "      <td>0.47</td>\n",
       "      <td>51</td>\n",
       "      <td>42</td>\n",
       "      <td>True</td>\n",
       "    </tr>\n",
       "    <tr>\n",
       "      <th>1</th>\n",
       "      <td>1948-01-02</td>\n",
       "      <td>0.59</td>\n",
       "      <td>45</td>\n",
       "      <td>36</td>\n",
       "      <td>True</td>\n",
       "    </tr>\n",
       "    <tr>\n",
       "      <th>2</th>\n",
       "      <td>1948-01-03</td>\n",
       "      <td>0.42</td>\n",
       "      <td>45</td>\n",
       "      <td>35</td>\n",
       "      <td>True</td>\n",
       "    </tr>\n",
       "    <tr>\n",
       "      <th>3</th>\n",
       "      <td>1948-01-04</td>\n",
       "      <td>0.31</td>\n",
       "      <td>45</td>\n",
       "      <td>34</td>\n",
       "      <td>True</td>\n",
       "    </tr>\n",
       "    <tr>\n",
       "      <th>4</th>\n",
       "      <td>1948-01-05</td>\n",
       "      <td>0.17</td>\n",
       "      <td>45</td>\n",
       "      <td>32</td>\n",
       "      <td>True</td>\n",
       "    </tr>\n",
       "  </tbody>\n",
       "</table>\n",
       "</div>"
      ],
      "text/plain": [
       "         DATE  PRCP  TMAX  TMIN  RAIN\n",
       "0  1948-01-01  0.47    51    42  True\n",
       "1  1948-01-02  0.59    45    36  True\n",
       "2  1948-01-03  0.42    45    35  True\n",
       "3  1948-01-04  0.31    45    34  True\n",
       "4  1948-01-05  0.17    45    32  True"
      ]
     },
     "execution_count": 53,
     "metadata": {},
     "output_type": "execute_result"
    }
   ],
   "source": [
    "data.head()"
   ]
  },
  {
   "cell_type": "code",
   "execution_count": 54,
   "id": "967dfdc5-6cb2-4a43-bcd0-a1e31765e83c",
   "metadata": {
    "tags": []
   },
   "outputs": [
    {
     "name": "stdout",
     "output_type": "stream",
     "text": [
      "<class 'pandas.core.frame.DataFrame'>\n",
      "RangeIndex: 25551 entries, 0 to 25550\n",
      "Data columns (total 5 columns):\n",
      " #   Column  Non-Null Count  Dtype  \n",
      "---  ------  --------------  -----  \n",
      " 0   DATE    25551 non-null  object \n",
      " 1   PRCP    25548 non-null  float64\n",
      " 2   TMAX    25551 non-null  int64  \n",
      " 3   TMIN    25551 non-null  int64  \n",
      " 4   RAIN    25548 non-null  object \n",
      "dtypes: float64(1), int64(2), object(2)\n",
      "memory usage: 998.2+ KB\n"
     ]
    }
   ],
   "source": [
    "data.info()"
   ]
  },
  {
   "cell_type": "code",
   "execution_count": 55,
   "id": "4d048174-8cc9-4827-87fa-eed156760f27",
   "metadata": {
    "tags": []
   },
   "outputs": [
    {
     "data": {
      "text/plain": [
       "DATE    0\n",
       "PRCP    3\n",
       "TMAX    0\n",
       "TMIN    0\n",
       "RAIN    3\n",
       "dtype: int64"
      ]
     },
     "execution_count": 55,
     "metadata": {},
     "output_type": "execute_result"
    }
   ],
   "source": [
    "data.isna().sum()"
   ]
  },
  {
   "cell_type": "code",
   "execution_count": 56,
   "id": "d6b470f2-9cff-42ff-b9c2-16065aa3e688",
   "metadata": {
    "tags": []
   },
   "outputs": [
    {
     "data": {
      "text/html": [
       "<div>\n",
       "<style scoped>\n",
       "    .dataframe tbody tr th:only-of-type {\n",
       "        vertical-align: middle;\n",
       "    }\n",
       "\n",
       "    .dataframe tbody tr th {\n",
       "        vertical-align: top;\n",
       "    }\n",
       "\n",
       "    .dataframe thead th {\n",
       "        text-align: right;\n",
       "    }\n",
       "</style>\n",
       "<table border=\"1\" class=\"dataframe\">\n",
       "  <thead>\n",
       "    <tr style=\"text-align: right;\">\n",
       "      <th></th>\n",
       "      <th>DATE</th>\n",
       "      <th>PRCP</th>\n",
       "      <th>TMAX</th>\n",
       "      <th>TMIN</th>\n",
       "      <th>RAIN</th>\n",
       "    </tr>\n",
       "  </thead>\n",
       "  <tbody>\n",
       "    <tr>\n",
       "      <th>18415</th>\n",
       "      <td>1998-06-02</td>\n",
       "      <td>NaN</td>\n",
       "      <td>72</td>\n",
       "      <td>52</td>\n",
       "      <td>NaN</td>\n",
       "    </tr>\n",
       "    <tr>\n",
       "      <th>18416</th>\n",
       "      <td>1998-06-03</td>\n",
       "      <td>NaN</td>\n",
       "      <td>66</td>\n",
       "      <td>51</td>\n",
       "      <td>NaN</td>\n",
       "    </tr>\n",
       "    <tr>\n",
       "      <th>21067</th>\n",
       "      <td>2005-09-05</td>\n",
       "      <td>NaN</td>\n",
       "      <td>70</td>\n",
       "      <td>52</td>\n",
       "      <td>NaN</td>\n",
       "    </tr>\n",
       "  </tbody>\n",
       "</table>\n",
       "</div>"
      ],
      "text/plain": [
       "             DATE  PRCP  TMAX  TMIN RAIN\n",
       "18415  1998-06-02   NaN    72    52  NaN\n",
       "18416  1998-06-03   NaN    66    51  NaN\n",
       "21067  2005-09-05   NaN    70    52  NaN"
      ]
     },
     "execution_count": 56,
     "metadata": {},
     "output_type": "execute_result"
    }
   ],
   "source": [
    "data[pd.isnull(data['PRCP'])]"
   ]
  },
  {
   "cell_type": "code",
   "execution_count": 57,
   "id": "ef6f0fd7-ee12-453d-9d63-f720dc94de58",
   "metadata": {
    "tags": []
   },
   "outputs": [
    {
     "data": {
      "text/html": [
       "<div>\n",
       "<style scoped>\n",
       "    .dataframe tbody tr th:only-of-type {\n",
       "        vertical-align: middle;\n",
       "    }\n",
       "\n",
       "    .dataframe tbody tr th {\n",
       "        vertical-align: top;\n",
       "    }\n",
       "\n",
       "    .dataframe thead th {\n",
       "        text-align: right;\n",
       "    }\n",
       "</style>\n",
       "<table border=\"1\" class=\"dataframe\">\n",
       "  <thead>\n",
       "    <tr style=\"text-align: right;\">\n",
       "      <th></th>\n",
       "      <th>DATE</th>\n",
       "      <th>PRCP</th>\n",
       "      <th>TMAX</th>\n",
       "      <th>TMIN</th>\n",
       "      <th>RAIN</th>\n",
       "    </tr>\n",
       "  </thead>\n",
       "  <tbody>\n",
       "    <tr>\n",
       "      <th>18415</th>\n",
       "      <td>1998-06-02</td>\n",
       "      <td>NaN</td>\n",
       "      <td>72</td>\n",
       "      <td>52</td>\n",
       "      <td>NaN</td>\n",
       "    </tr>\n",
       "    <tr>\n",
       "      <th>18416</th>\n",
       "      <td>1998-06-03</td>\n",
       "      <td>NaN</td>\n",
       "      <td>66</td>\n",
       "      <td>51</td>\n",
       "      <td>NaN</td>\n",
       "    </tr>\n",
       "    <tr>\n",
       "      <th>21067</th>\n",
       "      <td>2005-09-05</td>\n",
       "      <td>NaN</td>\n",
       "      <td>70</td>\n",
       "      <td>52</td>\n",
       "      <td>NaN</td>\n",
       "    </tr>\n",
       "  </tbody>\n",
       "</table>\n",
       "</div>"
      ],
      "text/plain": [
       "             DATE  PRCP  TMAX  TMIN RAIN\n",
       "18415  1998-06-02   NaN    72    52  NaN\n",
       "18416  1998-06-03   NaN    66    51  NaN\n",
       "21067  2005-09-05   NaN    70    52  NaN"
      ]
     },
     "execution_count": 57,
     "metadata": {},
     "output_type": "execute_result"
    }
   ],
   "source": [
    "data[pd.isnull(data['RAIN'])]"
   ]
  },
  {
   "cell_type": "markdown",
   "id": "d070caca-30ea-4aed-9d27-24c199850b48",
   "metadata": {},
   "source": [
    "IF YOU HAVE SUFFICIENT DATA THEN WE CAN DROP OF DATA BY data.dropna() method, like we have 25551 values. so droping of 3 will not impact data."
   ]
  },
  {
   "cell_type": "markdown",
   "id": "b05e55f6-60b8-4da5-97ef-8f79d3886901",
   "metadata": {
    "tags": []
   },
   "source": [
    "IF MISSING VALUES ARE LESS THAN 20% then drop the values."
   ]
  },
  {
   "cell_type": "markdown",
   "id": "6bf0b0ca-f8a2-4583-9103-da1071470eb9",
   "metadata": {
    "tags": []
   },
   "source": [
    "IF MISSING VALUES ARE BTW 20-75% then WILL DO A MISSIMG VALUE IMPUTATION.\n",
    "F MISSING VALUES ARE GREATER THAN 75% WE WILL DROP THE variable containing missing values"
   ]
  },
  {
   "cell_type": "code",
   "execution_count": 58,
   "id": "7315ef39-1731-4bfa-a381-91a6d9523b5b",
   "metadata": {
    "tags": []
   },
   "outputs": [
    {
     "data": {
      "text/plain": [
       "0.011741223435481977"
      ]
     },
     "execution_count": 58,
     "metadata": {},
     "output_type": "execute_result"
    }
   ],
   "source": [
    "### To findout the percentage is missing value/ total values * 100 \n",
    "percentage_of_missing_values_PRCP =  ( data['PRCP'].isna().sum()/data.shape[0] ) * 100\n",
    "percentage_of_missing_values_PRCP"
   ]
  },
  {
   "cell_type": "code",
   "execution_count": 59,
   "id": "c9b37b76-342f-4250-82b5-a1a8482909ee",
   "metadata": {
    "tags": []
   },
   "outputs": [
    {
     "data": {
      "text/plain": [
       "0.011741223435481977"
      ]
     },
     "execution_count": 59,
     "metadata": {},
     "output_type": "execute_result"
    }
   ],
   "source": [
    "percentage_of_missing_values_RAIN =  ( data['RAIN'].isna().sum()/data.shape[0] ) * 100\n",
    "percentage_of_missing_values_RAIN"
   ]
  },
  {
   "cell_type": "code",
   "execution_count": 60,
   "id": "a6257d68-6855-4b0e-9636-d6ad08b40873",
   "metadata": {
    "tags": []
   },
   "outputs": [
    {
     "data": {
      "text/plain": [
       "25551"
      ]
     },
     "execution_count": 60,
     "metadata": {},
     "output_type": "execute_result"
    }
   ],
   "source": [
    "len(data) # this is giving the list, but shape attributes are giving the records."
   ]
  },
  {
   "cell_type": "markdown",
   "id": "382c09a1-3fd6-47ac-92bd-eb8d1f369885",
   "metadata": {
    "tags": []
   },
   "source": [
    "#RAIN IS NOT A NUMERIC TO GET THE DISTINCT CATEGORIES AND THEIR COUNT "
   ]
  },
  {
   "cell_type": "code",
   "execution_count": 61,
   "id": "993f7a4c-09a3-482f-8c9b-4cbce84fd0e3",
   "metadata": {
    "tags": []
   },
   "outputs": [
    {
     "data": {
      "text/plain": [
       "RAIN\n",
       "False    14648\n",
       "True     10900\n",
       "Name: count, dtype: int64"
      ]
     },
     "execution_count": 61,
     "metadata": {},
     "output_type": "execute_result"
    }
   ],
   "source": [
    "data.RAIN.value_counts()"
   ]
  },
  {
   "cell_type": "markdown",
   "id": "d0d67fa7-ace2-42cc-8382-8df4ed329036",
   "metadata": {
    "tags": []
   },
   "source": [
    "categories occurs with more frequency is the MODE so MODE IS False"
   ]
  },
  {
   "cell_type": "code",
   "execution_count": 62,
   "id": "14dc3d4b-f596-4f38-af1f-3735eec96c62",
   "metadata": {
    "tags": []
   },
   "outputs": [],
   "source": [
    "#imputing(filling) the missing values for PRCP column as PRCP is NUMERIC we can get the mean value\n",
    "\n",
    "data['PRCP'] = data['PRCP'].fillna(data['PRCP'].mean())"
   ]
  },
  {
   "cell_type": "code",
   "execution_count": 63,
   "id": "2ea23272-133a-4d2a-9a32-d252bd45bef3",
   "metadata": {
    "tags": []
   },
   "outputs": [],
   "source": [
    "#imputing(filling) the missing values for RAIN column as RAIN is CATAGORICAL VALUE we can get the mode value\n",
    "#mode ()[0] means select the first mode like false is first mode here\n",
    "\n",
    "data['RAIN'] = data['RAIN'].fillna(data['RAIN'].mode()[0])"
   ]
  },
  {
   "cell_type": "code",
   "execution_count": 64,
   "id": "5b798d94-ca7f-4152-a7d3-08e8d1f70eb9",
   "metadata": {
    "tags": []
   },
   "outputs": [
    {
     "data": {
      "text/plain": [
       "DATE    0\n",
       "PRCP    0\n",
       "TMAX    0\n",
       "TMIN    0\n",
       "RAIN    0\n",
       "dtype: int64"
      ]
     },
     "execution_count": 64,
     "metadata": {},
     "output_type": "execute_result"
    }
   ],
   "source": [
    "data.isna().sum() # again check the missing values"
   ]
  },
  {
   "cell_type": "code",
   "execution_count": 65,
   "id": "b020a11c-6655-4e54-978c-c2192072c3bb",
   "metadata": {
    "tags": []
   },
   "outputs": [
    {
     "data": {
      "text/html": [
       "<div>\n",
       "<style scoped>\n",
       "    .dataframe tbody tr th:only-of-type {\n",
       "        vertical-align: middle;\n",
       "    }\n",
       "\n",
       "    .dataframe tbody tr th {\n",
       "        vertical-align: top;\n",
       "    }\n",
       "\n",
       "    .dataframe thead th {\n",
       "        text-align: right;\n",
       "    }\n",
       "</style>\n",
       "<table border=\"1\" class=\"dataframe\">\n",
       "  <thead>\n",
       "    <tr style=\"text-align: right;\">\n",
       "      <th></th>\n",
       "      <th>DATE</th>\n",
       "      <th>PRCP</th>\n",
       "      <th>TMAX</th>\n",
       "      <th>TMIN</th>\n",
       "      <th>RAIN</th>\n",
       "    </tr>\n",
       "  </thead>\n",
       "  <tbody>\n",
       "    <tr>\n",
       "      <th>0</th>\n",
       "      <td>1948-01-01</td>\n",
       "      <td>0.47</td>\n",
       "      <td>51</td>\n",
       "      <td>42</td>\n",
       "      <td>True</td>\n",
       "    </tr>\n",
       "    <tr>\n",
       "      <th>1</th>\n",
       "      <td>1948-01-02</td>\n",
       "      <td>0.59</td>\n",
       "      <td>45</td>\n",
       "      <td>36</td>\n",
       "      <td>True</td>\n",
       "    </tr>\n",
       "    <tr>\n",
       "      <th>2</th>\n",
       "      <td>1948-01-03</td>\n",
       "      <td>0.42</td>\n",
       "      <td>45</td>\n",
       "      <td>35</td>\n",
       "      <td>True</td>\n",
       "    </tr>\n",
       "    <tr>\n",
       "      <th>3</th>\n",
       "      <td>1948-01-04</td>\n",
       "      <td>0.31</td>\n",
       "      <td>45</td>\n",
       "      <td>34</td>\n",
       "      <td>True</td>\n",
       "    </tr>\n",
       "    <tr>\n",
       "      <th>4</th>\n",
       "      <td>1948-01-05</td>\n",
       "      <td>0.17</td>\n",
       "      <td>45</td>\n",
       "      <td>32</td>\n",
       "      <td>True</td>\n",
       "    </tr>\n",
       "  </tbody>\n",
       "</table>\n",
       "</div>"
      ],
      "text/plain": [
       "         DATE  PRCP  TMAX  TMIN  RAIN\n",
       "0  1948-01-01  0.47    51    42  True\n",
       "1  1948-01-02  0.59    45    36  True\n",
       "2  1948-01-03  0.42    45    35  True\n",
       "3  1948-01-04  0.31    45    34  True\n",
       "4  1948-01-05  0.17    45    32  True"
      ]
     },
     "execution_count": 65,
     "metadata": {},
     "output_type": "execute_result"
    }
   ],
   "source": [
    "data.head()"
   ]
  },
  {
   "cell_type": "code",
   "execution_count": 66,
   "id": "40a14f7e-85cd-4785-935f-293873252cac",
   "metadata": {
    "tags": []
   },
   "outputs": [
    {
     "data": {
      "text/html": [
       "<div>\n",
       "<style scoped>\n",
       "    .dataframe tbody tr th:only-of-type {\n",
       "        vertical-align: middle;\n",
       "    }\n",
       "\n",
       "    .dataframe tbody tr th {\n",
       "        vertical-align: top;\n",
       "    }\n",
       "\n",
       "    .dataframe thead th {\n",
       "        text-align: right;\n",
       "    }\n",
       "</style>\n",
       "<table border=\"1\" class=\"dataframe\">\n",
       "  <thead>\n",
       "    <tr style=\"text-align: right;\">\n",
       "      <th></th>\n",
       "      <th>DATE</th>\n",
       "      <th>PRCP</th>\n",
       "      <th>TMAX</th>\n",
       "      <th>TMIN</th>\n",
       "      <th>RAIN</th>\n",
       "    </tr>\n",
       "  </thead>\n",
       "  <tbody>\n",
       "  </tbody>\n",
       "</table>\n",
       "</div>"
      ],
      "text/plain": [
       "Empty DataFrame\n",
       "Columns: [DATE, PRCP, TMAX, TMIN, RAIN]\n",
       "Index: []"
      ]
     },
     "execution_count": 66,
     "metadata": {},
     "output_type": "execute_result"
    }
   ],
   "source": [
    "data[pd.isnull(data['PRCP'])]"
   ]
  },
  {
   "cell_type": "markdown",
   "id": "093e430f-7775-4feb-b2a1-617a2be6e6ed",
   "metadata": {},
   "source": [
    "by default it considered as string. Now the below to_datetime convert it into datetime format"
   ]
  },
  {
   "cell_type": "code",
   "execution_count": 67,
   "id": "cb6aee3f-1bc5-42e3-a7f9-ff6412421cf8",
   "metadata": {
    "tags": []
   },
   "outputs": [],
   "source": [
    "data['DATE']= pd.to_datetime(data['DATE']) "
   ]
  },
  {
   "cell_type": "markdown",
   "id": "342447c9-a2db-467b-bcd5-0df5bb1b8ff3",
   "metadata": {
    "tags": []
   },
   "source": [
    "Encoding of rain as values are in true false basically into numeric counterpart"
   ]
  },
  {
   "cell_type": "code",
   "execution_count": 81,
   "id": "533ef5f4-f626-45e7-894c-4dd48f6df708",
   "metadata": {
    "tags": []
   },
   "outputs": [],
   "source": [
    "from sklearn.preprocessing import LabelEncoder\n",
    "encoder = LabelEncoder()"
   ]
  },
  {
   "cell_type": "code",
   "execution_count": 82,
   "id": "d4014021-82df-40c7-8563-c6d9c55ee0fb",
   "metadata": {
    "tags": []
   },
   "outputs": [
    {
     "name": "stdout",
     "output_type": "stream",
     "text": [
      "<class 'pandas.core.frame.DataFrame'>\n",
      "RangeIndex: 25551 entries, 0 to 25550\n",
      "Data columns (total 5 columns):\n",
      " #   Column  Non-Null Count  Dtype         \n",
      "---  ------  --------------  -----         \n",
      " 0   DATE    25551 non-null  datetime64[ns]\n",
      " 1   PRCP    25551 non-null  float64       \n",
      " 2   TMAX    25551 non-null  int64         \n",
      " 3   TMIN    25551 non-null  int64         \n",
      " 4   RAIN    25551 non-null  int64         \n",
      "dtypes: datetime64[ns](1), float64(1), int64(3)\n",
      "memory usage: 998.2 KB\n"
     ]
    }
   ],
   "source": [
    "data['RAIN'] = encoder.fit_transform(data['RAIN']) # FITTING DATA AND ALIGNED THE OBJECT\n",
    "data.info()"
   ]
  },
  {
   "cell_type": "code",
   "execution_count": 83,
   "id": "2de78c3c-554c-4d39-9e5c-dbb13cb9a5b4",
   "metadata": {
    "tags": []
   },
   "outputs": [],
   "source": [
    "X = data.drop(['DATE', 'RAIN'], axis=1)\n",
    "Y = data['RAIN']"
   ]
  },
  {
   "cell_type": "code",
   "execution_count": 84,
   "id": "b53f6e7c-0419-4984-b692-7f2c65b87939",
   "metadata": {
    "tags": []
   },
   "outputs": [],
   "source": [
    "from sklearn.model_selection import train_test_split\n",
    "X_train, X_test,Y_train,Y_test = train_test_split(X,Y, test_size =0.25, random_state=42)"
   ]
  },
  {
   "cell_type": "code",
   "execution_count": 85,
   "id": "d786591c-9260-4760-91d5-9a5bd23d933e",
   "metadata": {
    "tags": []
   },
   "outputs": [
    {
     "data": {
      "text/plain": [
       "(19163, 3)"
      ]
     },
     "execution_count": 85,
     "metadata": {},
     "output_type": "execute_result"
    }
   ],
   "source": [
    "X_train.shape"
   ]
  },
  {
   "cell_type": "code",
   "execution_count": 86,
   "id": "ae35ef9b-91d2-476b-8bcb-869da287ace4",
   "metadata": {
    "tags": []
   },
   "outputs": [
    {
     "data": {
      "text/plain": [
       "(6388, 3)"
      ]
     },
     "execution_count": 86,
     "metadata": {},
     "output_type": "execute_result"
    }
   ],
   "source": [
    "X_test.shape"
   ]
  },
  {
   "cell_type": "code",
   "execution_count": 171,
   "id": "d0bee8e2-4200-4397-aa16-47cd67afca70",
   "metadata": {
    "tags": []
   },
   "outputs": [
    {
     "data": {
      "text/html": [
       "<style>#sk-container-id-5 {color: black;}#sk-container-id-5 pre{padding: 0;}#sk-container-id-5 div.sk-toggleable {background-color: white;}#sk-container-id-5 label.sk-toggleable__label {cursor: pointer;display: block;width: 100%;margin-bottom: 0;padding: 0.3em;box-sizing: border-box;text-align: center;}#sk-container-id-5 label.sk-toggleable__label-arrow:before {content: \"▸\";float: left;margin-right: 0.25em;color: #696969;}#sk-container-id-5 label.sk-toggleable__label-arrow:hover:before {color: black;}#sk-container-id-5 div.sk-estimator:hover label.sk-toggleable__label-arrow:before {color: black;}#sk-container-id-5 div.sk-toggleable__content {max-height: 0;max-width: 0;overflow: hidden;text-align: left;background-color: #f0f8ff;}#sk-container-id-5 div.sk-toggleable__content pre {margin: 0.2em;color: black;border-radius: 0.25em;background-color: #f0f8ff;}#sk-container-id-5 input.sk-toggleable__control:checked~div.sk-toggleable__content {max-height: 200px;max-width: 100%;overflow: auto;}#sk-container-id-5 input.sk-toggleable__control:checked~label.sk-toggleable__label-arrow:before {content: \"▾\";}#sk-container-id-5 div.sk-estimator input.sk-toggleable__control:checked~label.sk-toggleable__label {background-color: #d4ebff;}#sk-container-id-5 div.sk-label input.sk-toggleable__control:checked~label.sk-toggleable__label {background-color: #d4ebff;}#sk-container-id-5 input.sk-hidden--visually {border: 0;clip: rect(1px 1px 1px 1px);clip: rect(1px, 1px, 1px, 1px);height: 1px;margin: -1px;overflow: hidden;padding: 0;position: absolute;width: 1px;}#sk-container-id-5 div.sk-estimator {font-family: monospace;background-color: #f0f8ff;border: 1px dotted black;border-radius: 0.25em;box-sizing: border-box;margin-bottom: 0.5em;}#sk-container-id-5 div.sk-estimator:hover {background-color: #d4ebff;}#sk-container-id-5 div.sk-parallel-item::after {content: \"\";width: 100%;border-bottom: 1px solid gray;flex-grow: 1;}#sk-container-id-5 div.sk-label:hover label.sk-toggleable__label {background-color: #d4ebff;}#sk-container-id-5 div.sk-serial::before {content: \"\";position: absolute;border-left: 1px solid gray;box-sizing: border-box;top: 0;bottom: 0;left: 50%;z-index: 0;}#sk-container-id-5 div.sk-serial {display: flex;flex-direction: column;align-items: center;background-color: white;padding-right: 0.2em;padding-left: 0.2em;position: relative;}#sk-container-id-5 div.sk-item {position: relative;z-index: 1;}#sk-container-id-5 div.sk-parallel {display: flex;align-items: stretch;justify-content: center;background-color: white;position: relative;}#sk-container-id-5 div.sk-item::before, #sk-container-id-5 div.sk-parallel-item::before {content: \"\";position: absolute;border-left: 1px solid gray;box-sizing: border-box;top: 0;bottom: 0;left: 50%;z-index: -1;}#sk-container-id-5 div.sk-parallel-item {display: flex;flex-direction: column;z-index: 1;position: relative;background-color: white;}#sk-container-id-5 div.sk-parallel-item:first-child::after {align-self: flex-end;width: 50%;}#sk-container-id-5 div.sk-parallel-item:last-child::after {align-self: flex-start;width: 50%;}#sk-container-id-5 div.sk-parallel-item:only-child::after {width: 0;}#sk-container-id-5 div.sk-dashed-wrapped {border: 1px dashed gray;margin: 0 0.4em 0.5em 0.4em;box-sizing: border-box;padding-bottom: 0.4em;background-color: white;}#sk-container-id-5 div.sk-label label {font-family: monospace;font-weight: bold;display: inline-block;line-height: 1.2em;}#sk-container-id-5 div.sk-label-container {text-align: center;}#sk-container-id-5 div.sk-container {/* jupyter's `normalize.less` sets `[hidden] { display: none; }` but bootstrap.min.css set `[hidden] { display: none !important; }` so we also need the `!important` here to be able to override the default hidden behavior on the sphinx rendered scikit-learn.org. See: https://github.com/scikit-learn/scikit-learn/issues/21755 */display: inline-block !important;position: relative;}#sk-container-id-5 div.sk-text-repr-fallback {display: none;}</style><div id=\"sk-container-id-5\" class=\"sk-top-container\"><div class=\"sk-text-repr-fallback\"><pre>LogisticRegression()</pre><b>In a Jupyter environment, please rerun this cell to show the HTML representation or trust the notebook. <br />On GitHub, the HTML representation is unable to render, please try loading this page with nbviewer.org.</b></div><div class=\"sk-container\" hidden><div class=\"sk-item\"><div class=\"sk-estimator sk-toggleable\"><input class=\"sk-toggleable__control sk-hidden--visually\" id=\"sk-estimator-id-5\" type=\"checkbox\" checked><label for=\"sk-estimator-id-5\" class=\"sk-toggleable__label sk-toggleable__label-arrow\">LogisticRegression</label><div class=\"sk-toggleable__content\"><pre>LogisticRegression()</pre></div></div></div></div></div>"
      ],
      "text/plain": [
       "LogisticRegression()"
      ]
     },
     "execution_count": 171,
     "metadata": {},
     "output_type": "execute_result"
    }
   ],
   "source": [
    "from sklearn.linear_model import LogisticRegression\n",
    "model = LogisticRegression()\n",
    "model.fit(X_train, Y_train)"
   ]
  },
  {
   "cell_type": "code",
   "execution_count": 172,
   "id": "18f8f252-8f73-4be1-95fb-d79d2d0cbf8a",
   "metadata": {
    "tags": []
   },
   "outputs": [
    {
     "name": "stdout",
     "output_type": "stream",
     "text": [
      "[1 1 1 ... 0 1 0]\n"
     ]
    }
   ],
   "source": [
    "y_pred = model.predict(X_test)\n",
    "print(y_pred)"
   ]
  },
  {
   "cell_type": "code",
   "execution_count": 173,
   "id": "2ec91eb2-f4e5-4948-87ae-13baa52c4a8a",
   "metadata": {
    "tags": []
   },
   "outputs": [
    {
     "data": {
      "text/plain": [
       "5816     1\n",
       "25051    1\n",
       "512      1\n",
       "10870    0\n",
       "4306     0\n",
       "        ..\n",
       "16123    1\n",
       "18413    0\n",
       "4660     0\n",
       "15068    1\n",
       "7571     1\n",
       "Name: RAIN, Length: 6388, dtype: int64"
      ]
     },
     "execution_count": 173,
     "metadata": {},
     "output_type": "execute_result"
    }
   ],
   "source": [
    "Y_test"
   ]
  },
  {
   "cell_type": "code",
   "execution_count": 174,
   "id": "24fd0108-1a96-42d4-8df9-1ec03dad23c5",
   "metadata": {
    "tags": []
   },
   "outputs": [
    {
     "name": "stdout",
     "output_type": "stream",
     "text": [
      "[[3690   15]\n",
      " [ 458 2225]]\n"
     ]
    }
   ],
   "source": [
    "from sklearn.metrics import confusion_matrix, accuracy_score, precision_score, recall_score, classification_report\n",
    "r2 = confusion_matrix(Y_test, y_pred)\n",
    "print(r2)"
   ]
  },
  {
   "cell_type": "markdown",
   "id": "79ba80fe-bcb1-4d56-9193-8c0152dedc48",
   "metadata": {},
   "source": [
    "TN FP\n",
    "FN TP"
   ]
  },
  {
   "cell_type": "code",
   "execution_count": 175,
   "id": "cbe0f8fb-5707-409c-8845-0bf23d90f679",
   "metadata": {
    "tags": []
   },
   "outputs": [
    {
     "data": {
      "text/plain": [
       "<Axes: >"
      ]
     },
     "execution_count": 175,
     "metadata": {},
     "output_type": "execute_result"
    },
    {
     "data": {
      "image/png": "[encoded data removed]",
      "text/plain": [
       "<Figure size 640x480 with 2 Axes>"
      ]
     },
     "metadata": {},
     "output_type": "display_data"
    }
   ],
   "source": [
    "sns.heatmap(r2, annot=True, fmt='.2f')"
   ]
  },
  {
   "cell_type": "markdown",
   "id": "ca94ab4f-8185-4b57-b37d-c8581e5758e6",
   "metadata": {},
   "source": [
    "ACCURACY ==========TP+ TN / TP+TN+FP+FN"
   ]
  },
  {
   "cell_type": "code",
   "execution_count": 176,
   "id": "9ed876e3-da26-48b3-b00d-5084d0cef0f2",
   "metadata": {
    "tags": []
   },
   "outputs": [
    {
     "name": "stdout",
     "output_type": "stream",
     "text": [
      "0.9259549154664997\n"
     ]
    }
   ],
   "source": [
    "accuracy = accuracy_score(Y_test, y_pred)\n",
    "print(accuracy)"
   ]
  },
  {
   "cell_type": "markdown",
   "id": "1e0e9443-95df-47da-bd4b-a21846c0d46f",
   "metadata": {
    "tags": []
   },
   "source": [
    "PRECISION ======== TP / TP+FP #Pointing to the prediction part"
   ]
  },
  {
   "cell_type": "code",
   "execution_count": 177,
   "id": "e8ac3e0c-6350-45d7-bdbf-a2da46ce799a",
   "metadata": {
    "tags": []
   },
   "outputs": [
    {
     "name": "stdout",
     "output_type": "stream",
     "text": [
      "0.9933035714285714\n"
     ]
    }
   ],
   "source": [
    "precision = precision_score(Y_test, y_pred)\n",
    "print(precision)"
   ]
  },
  {
   "cell_type": "markdown",
   "id": "8ef27c9a-88ed-48ad-b2a2-751833c1b0e6",
   "metadata": {},
   "source": [
    "RECALL OF 0 CLASS ========= TN/ TN+TP #Pointing towards the actual part"
   ]
  },
  {
   "cell_type": "code",
   "execution_count": 178,
   "id": "865978bb-a7d3-48fe-90e1-bf3b6fb39a81",
   "metadata": {
    "tags": []
   },
   "outputs": [
    {
     "name": "stdout",
     "output_type": "stream",
     "text": [
      "0.8292955646664182\n"
     ]
    }
   ],
   "source": [
    "recall = recall_score(Y_test, y_pred)\n",
    "print(recall)"
   ]
  },
  {
   "cell_type": "markdown",
   "id": "22ec1c2e-b182-4ebf-b5b4-19cfcda19dbe",
   "metadata": {},
   "source": [
    "F1- SCORE is harmonic mean of precision and recall ====== 2*(Precision * Recall)/ Precision+ Recall"
   ]
  },
  {
   "cell_type": "code",
   "execution_count": 179,
   "id": "2f52918f-2eda-4388-8291-c838a5e8a00d",
   "metadata": {
    "tags": []
   },
   "outputs": [
    {
     "name": "stdout",
     "output_type": "stream",
     "text": [
      "              precision    recall  f1-score   support\n",
      "\n",
      "           0       0.89      1.00      0.94      3705\n",
      "           1       0.99      0.83      0.90      2683\n",
      "\n",
      "    accuracy                           0.93      6388\n",
      "   macro avg       0.94      0.91      0.92      6388\n",
      "weighted avg       0.93      0.93      0.92      6388\n",
      "\n"
     ]
    }
   ],
   "source": [
    "F1_SCORE = classification_report(Y_test, y_pred)\n",
    "print(F1_SCORE)"
   ]
  },
  {
   "cell_type": "code",
   "execution_count": 180,
   "id": "d75dc9ce-ca4b-4c05-8e8b-2c574d1db919",
   "metadata": {
    "tags": []
   },
   "outputs": [],
   "source": [
    "import joblib \n"
   ]
  },
  {
   "cell_type": "code",
   "execution_count": 181,
   "id": "18a5b5ce-0751-434a-aed0-a1d654aaebf5",
   "metadata": {
    "tags": []
   },
   "outputs": [
    {
     "name": "stdout",
     "output_type": "stream",
     "text": [
      "Model is saved\n"
     ]
    }
   ],
   "source": [
    "#dump the model\n",
    "joblib.dump(model, 'Rain_Prediction_model.pkl') \n",
    "print(\"Model is saved\")"
   ]
  },
  {
   "cell_type": "code",
   "execution_count": 182,
   "id": "c5c93ee0-f61c-497e-9da1-e327556aeee5",
   "metadata": {
    "tags": []
   },
   "outputs": [],
   "source": [
    "#load the model back\n",
    "MODEL1 = joblib.load('Rain_Prediction_model.pkl')"
   ]
  },
  {
   "cell_type": "code",
   "execution_count": 183,
   "id": "52da5871-b6e1-4c2e-912b-64d61fd0e138",
   "metadata": {
    "tags": []
   },
   "outputs": [
    {
     "name": "stdout",
     "output_type": "stream",
     "text": [
      "NO RAIN\n"
     ]
    },
    {
     "name": "stderr",
     "output_type": "stream",
     "text": [
      "C:\\Users\\nehagour\\AppData\\Local\\anaconda3\\Lib\\site-packages\\sklearn\\base.py:464: UserWarning: X does not have valid feature names, but LogisticRegression was fitted with feature names\n",
      "  warnings.warn(\n"
     ]
    }
   ],
   "source": [
    "PRCP = 0\n",
    "TMAX = 45\n",
    "TMIN = 35\n",
    "pred = MODEL1.predict([[PRCP, TMAX, TMIN]])\n",
    "if pred==1 :\n",
    "    print(\"RAIN\")\n",
    "else:\n",
    "    print(\"NO RAIN\")\n",
    "    "
   ]
  },
  {
   "cell_type": "raw",
   "id": "64efe4b7-0d15-4da6-aa19-56b731475d15",
   "metadata": {},
   "source": [
    "TPR(True POS Rate) --- TP/TP+FN ***This should be high\n",
    "FPR (False POS Rate)--- FP/FP+TN\n",
    "Threshold always be 0.5, Above threshold value would be 1 and below equal it would be 0\n",
    "Actual     model   0.1   0.8 \n",
    "1          0.8      1    0\n",
    "0          0.5      1    0\n",
    "1          0.4      1    0\n",
    "1          0.7      1    0\n",
    "0          0.6      1    0\n"
   ]
  },
  {
   "cell_type": "markdown",
   "id": "06bbc9f3-dc7c-4b17-b7ec-220471ae2351",
   "metadata": {},
   "source": [
    "ROC - Receiver operator : Graphical representation of how your model is performing across different classification threshold. \n",
    "TPR vs FPR  graph \n",
    "AUC - Area Under Curve :: High AUC, better Classifier:: AUC identify the ROC ::This quantify the classification of TPR  and FPR\n",
    "\n"
   ]
  },
  {
   "cell_type": "code",
   "execution_count": 184,
   "id": "f02dda52-791e-4199-a243-fe7fd3118c30",
   "metadata": {
    "tags": []
   },
   "outputs": [],
   "source": [
    "pred_prob = model.predict_proba(X_test)"
   ]
  },
  {
   "cell_type": "code",
   "execution_count": 185,
   "id": "5a8a73c7-f6b4-4039-ac85-cc7a4e206780",
   "metadata": {
    "tags": []
   },
   "outputs": [
    {
     "data": {
      "text/plain": [
       "array([[2.99192635e-01, 7.00807365e-01],\n",
       "       [1.97336141e-02, 9.80266386e-01],\n",
       "       [3.70614926e-02, 9.62938507e-01],\n",
       "       ...,\n",
       "       [9.16139971e-01, 8.38600289e-02],\n",
       "       [6.47952348e-05, 9.99935205e-01],\n",
       "       [6.39960952e-01, 3.60039048e-01]])"
      ]
     },
     "execution_count": 185,
     "metadata": {},
     "output_type": "execute_result"
    }
   ],
   "source": [
    "pred_prob"
   ]
  },
  {
   "cell_type": "code",
   "execution_count": 186,
   "id": "297f4862-67c8-4a2d-a9b7-021a6b80a7d9",
   "metadata": {
    "tags": []
   },
   "outputs": [
    {
     "data": {
      "text/plain": [
       "array([0.70080736, 0.98026639, 0.96293851, ..., 0.08386003, 0.9999352 ,\n",
       "       0.36003905])"
      ]
     },
     "execution_count": 186,
     "metadata": {},
     "output_type": "execute_result"
    }
   ],
   "source": [
    "pred_prob[:,1]"
   ]
  },
  {
   "cell_type": "code",
   "execution_count": 187,
   "id": "c1d72eae-45e4-4e72-a074-969462f6d737",
   "metadata": {
    "tags": []
   },
   "outputs": [
    {
     "data": {
      "text/plain": [
       "5816     1\n",
       "25051    1\n",
       "512      1\n",
       "10870    0\n",
       "4306     0\n",
       "        ..\n",
       "16123    1\n",
       "18413    0\n",
       "4660     0\n",
       "15068    1\n",
       "7571     1\n",
       "Name: RAIN, Length: 6388, dtype: int64"
      ]
     },
     "execution_count": 187,
     "metadata": {},
     "output_type": "execute_result"
    }
   ],
   "source": [
    "Y_test"
   ]
  },
  {
   "cell_type": "code",
   "execution_count": 188,
   "id": "deaf0974-f7ed-4cde-95cf-9aed7956b270",
   "metadata": {
    "tags": []
   },
   "outputs": [],
   "source": [
    "from sklearn.metrics import roc_auc_score, roc_curve"
   ]
  },
  {
   "cell_type": "code",
   "execution_count": 189,
   "id": "9397bce0-4f3a-4cb7-8e7d-1ac43b430769",
   "metadata": {
    "tags": []
   },
   "outputs": [
    {
     "data": {
      "text/plain": [
       "0.9793039897832255"
      ]
     },
     "execution_count": 189,
     "metadata": {},
     "output_type": "execute_result"
    }
   ],
   "source": [
    "auc_score = roc_auc_score(Y_test, pred_prob[:,1])\n",
    "auc_score"
   ]
  },
  {
   "cell_type": "code",
   "execution_count": 190,
   "id": "5dd5958b-7132-45ba-b4d5-60e7f41edd5a",
   "metadata": {
    "tags": []
   },
   "outputs": [],
   "source": [
    "fpr, tpr, thresh = roc_curve(Y_test, pred_prob[:,1])"
   ]
  },
  {
   "cell_type": "code",
   "execution_count": 191,
   "id": "12d8b56d-2293-4ee3-93ef-1a0065448cf0",
   "metadata": {
    "tags": []
   },
   "outputs": [
    {
     "data": {
      "text/plain": [
       "array([0.        , 0.        , 0.        , ..., 0.99622132, 0.99730094,\n",
       "       1.        ])"
      ]
     },
     "execution_count": 191,
     "metadata": {},
     "output_type": "execute_result"
    }
   ],
   "source": [
    "fpr"
   ]
  },
  {
   "cell_type": "code",
   "execution_count": 192,
   "id": "56ed1d2c-ae11-417f-91e3-f0eda6c6a8c6",
   "metadata": {
    "tags": []
   },
   "outputs": [
    {
     "data": {
      "text/plain": [
       "array([0.        , 0.03988073, 0.04286247, ..., 1.        , 1.        ,\n",
       "       1.        ])"
      ]
     },
     "execution_count": 192,
     "metadata": {},
     "output_type": "execute_result"
    }
   ],
   "source": [
    "tpr"
   ]
  },
  {
   "cell_type": "code",
   "execution_count": 193,
   "id": "47a3a504-3806-4d57-a8d6-884974eb71aa",
   "metadata": {
    "tags": []
   },
   "outputs": [
    {
     "data": {
      "text/plain": [
       "array([       inf, 1.        , 1.        , ..., 0.00614756, 0.00570804,\n",
       "       0.00293478])"
      ]
     },
     "execution_count": 193,
     "metadata": {},
     "output_type": "execute_result"
    }
   ],
   "source": [
    "thresh"
   ]
  },
  {
   "cell_type": "code",
   "execution_count": 194,
   "id": "ecafab6f-e8b9-4127-a434-da5fcd58158b",
   "metadata": {
    "tags": []
   },
   "outputs": [
    {
     "data": {
      "text/plain": [
       "(1440,)"
      ]
     },
     "execution_count": 194,
     "metadata": {},
     "output_type": "execute_result"
    }
   ],
   "source": [
    "thresh.shape"
   ]
  },
  {
   "cell_type": "code",
   "execution_count": 195,
   "id": "0b55a038-0c37-4913-8f06-be44af30fec6",
   "metadata": {
    "tags": []
   },
   "outputs": [
    {
     "data": {
      "text/plain": [
       "(1440,)"
      ]
     },
     "execution_count": 195,
     "metadata": {},
     "output_type": "execute_result"
    }
   ],
   "source": [
    "fpr.shape"
   ]
  },
  {
   "cell_type": "code",
   "execution_count": 196,
   "id": "8a0f71d9-66a7-475e-8685-e4b021f0fc0c",
   "metadata": {
    "tags": []
   },
   "outputs": [
    {
     "data": {
      "text/plain": [
       "(1440,)"
      ]
     },
     "execution_count": 196,
     "metadata": {},
     "output_type": "execute_result"
    }
   ],
   "source": [
    "tpr.shape"
   ]
  },
  {
   "cell_type": "code",
   "execution_count": 197,
   "id": "7c9e6559-0be3-4a54-a3e0-9dc92660ebdc",
   "metadata": {
    "tags": []
   },
   "outputs": [
    {
     "data": {
      "text/plain": [
       "<matplotlib.legend.Legend at 0x1b8e06f0990>"
      ]
     },
     "execution_count": 197,
     "metadata": {},
     "output_type": "execute_result"
    },
    {
     "data": {
      "image/png": "[encoded data removed]",
      "text/plain": [
       "<Figure size 640x480 with 1 Axes>"
      ]
     },
     "metadata": {},
     "output_type": "display_data"
    }
   ],
   "source": [
    "fig,ax=plt.subplots()\n",
    "ax.set_facecolor('white')\n",
    "plt.plot(fpr,tpr,linestyle = '--', color = 'orange', label=auc_score)\n",
    "plt.xlabel('FPR')\n",
    "plt.ylabel('TPR')\n",
    "plt. title('ROC curve')\n",
    "plt.legend(loc='best')"
   ]
  }
 ],
 "metadata": {
  "kernelspec": {
   "display_name": "Python 3 (ipykernel)",
   "language": "python",
   "name": "python3"
  },
  "language_info": {
   "codemirror_mode": {
    "name": "ipython",
    "version": 3
   },
   "file_extension": ".py",
   "mimetype": "text/x-python",
   "name": "python",
   "nbconvert_exporter": "python",
   "pygments_lexer": "ipython3",
   "version": "3.11.5"
  }
 },
 "nbformat": 4,
 "nbformat_minor": 5
}
