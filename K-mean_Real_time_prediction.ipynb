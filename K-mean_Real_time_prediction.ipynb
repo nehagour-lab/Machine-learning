{
 "cells": [
  {
   "cell_type": "code",
   "execution_count": 1,
   "id": "2eec4194-36ca-49cd-b798-8e684d309709",
   "metadata": {
    "tags": []
   },
   "outputs": [],
   "source": [
    "import joblib\n"
   ]
  },
  {
   "cell_type": "code",
   "execution_count": 5,
   "id": "07f3dfeb-fdaa-47f7-9fdb-33016c0c0ad9",
   "metadata": {
    "tags": []
   },
   "outputs": [
    {
     "name": "stdout",
     "output_type": "stream",
     "text": [
      "Model is loaded\n"
     ]
    }
   ],
   "source": [
    "model=joblib.load('Driver_pred.pkl')\n",
    "print('Model is loaded')"
   ]
  },
  {
   "cell_type": "code",
   "execution_count": 9,
   "id": "f783209b-25db-4bd0-aec0-9c3268747f36",
   "metadata": {
    "tags": []
   },
   "outputs": [
    {
     "name": "stdout",
     "output_type": "stream",
     "text": [
      "Long Distant Driver\n"
     ]
    },
    {
     "name": "stderr",
     "output_type": "stream",
     "text": [
      "C:\\Users\\nehagour\\AppData\\Local\\anaconda3\\Lib\\site-packages\\sklearn\\base.py:464: UserWarning: X does not have valid feature names, but KMeans was fitted with feature names\n",
      "  warnings.warn(\n"
     ]
    }
   ],
   "source": [
    "#Now do real time prediction\n",
    "mean_dist_day = 700\n",
    "mean_over_speed =80\n",
    "pred = model.predict([[mean_dist_day, mean_over_speed]])\n",
    "if pred==1:\n",
    "    print('Long Distant Driver')\n",
    "else:\n",
    "    print('short_distant Driver')"
   ]
  },
  {
   "cell_type": "code",
   "execution_count": null,
   "id": "3ada7dbd-319a-489b-b320-a0197ac585c3",
   "metadata": {},
   "outputs": [],
   "source": [
    "from sklearn.metrics import silhouette_score\n",
    "silhouette_score(X, cluster_number)\n"
   ]
  }
 ],
 "metadata": {
  "kernelspec": {
   "display_name": "Python 3 (ipykernel)",
   "language": "python",
   "name": "python3"
  },
  "language_info": {
   "codemirror_mode": {
    "name": "ipython",
    "version": 3
   },
   "file_extension": ".py",
   "mimetype": "text/x-python",
   "name": "python",
   "nbconvert_exporter": "python",
   "pygments_lexer": "ipython3",
   "version": "3.11.5"
  }
 },
 "nbformat": 4,
 "nbformat_minor": 5
}
