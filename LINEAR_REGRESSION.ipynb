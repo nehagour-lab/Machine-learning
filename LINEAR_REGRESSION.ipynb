{
 "cells": [
  {
   "cell_type": "code",
   "execution_count": 62,
   "id": "7da5d624-8235-4c72-ad6a-853e32131855",
   "metadata": {
    "tags": []
   },
   "outputs": [
    {
     "name": "stdout",
     "output_type": "stream",
     "text": [
      "<class 'pandas.core.frame.DataFrame'>\n",
      "RangeIndex: 30 entries, 0 to 29\n",
      "Data columns (total 2 columns):\n",
      " #   Column           Non-Null Count  Dtype  \n",
      "---  ------           --------------  -----  \n",
      " 0   YearsExperience  30 non-null     float64\n",
      " 1   Salary           30 non-null     int64  \n",
      "dtypes: float64(1), int64(1)\n",
      "memory usage: 612.0 bytes\n"
     ]
    }
   ],
   "source": [
    "import numpy as np\n",
    "import pandas as pd\n",
    "from matplotlib import pyplot as plt\n",
    "data = pd.read_csv('Salary_Data.csv')\n",
    "data.head()\n",
    "data.tail()\n",
    "data.info()"
   ]
  },
  {
   "cell_type": "code",
   "execution_count": 61,
   "id": "69c1ed24-ee57-4b70-950a-3b300e7eba7e",
   "metadata": {
    "tags": []
   },
   "outputs": [
    {
     "data": {
      "text/plain": [
       "YearsExperience    0\n",
       "Salary             0\n",
       "dtype: int64"
      ]
     },
     "execution_count": 61,
     "metadata": {},
     "output_type": "execute_result"
    }
   ],
   "source": [
    "data.isna().sum(axis=0)"
   ]
  },
  {
   "cell_type": "code",
   "execution_count": 55,
   "id": "357e7075-b100-4aea-b100-3b541be0b524",
   "metadata": {
    "tags": []
   },
   "outputs": [],
   "source": [
    "X=data.iloc[:,:-1].values #select all the rows , and select the coloumn except the -1 \n",
    "Y =data.iloc[:,-1].values #select all the rows , and select the coloumn on -1"
   ]
  },
  {
   "cell_type": "markdown",
   "id": "cc19df5e-b81b-4f23-a12d-520ab6cedab3",
   "metadata": {},
   "source": [
    "#split the feature and response set into 4 subsets. first two are for training, last two for  test"
   ]
  },
  {
   "cell_type": "code",
   "execution_count": 57,
   "id": "eb668f9f-9f6f-408c-94d3-cee10fe848b4",
   "metadata": {
    "tags": []
   },
   "outputs": [],
   "source": [
    "from sklearn.model_selection import train_test_split\n",
    "X_train, X_test,Y_train,Y_test = train_test_split(X,Y, test_size =0.3, random_state=0)"
   ]
  },
  {
   "cell_type": "markdown",
   "id": "4be01c72-af97-4a34-9b19-6cc52a593b13",
   "metadata": {
    "tags": []
   },
   "source": [
    "#random_test=0 means to generate the same tests\n",
    "#70% for train data, 30% for test data\n",
    "#feature scaling: All the data on same range::  All the data should contribute equally\n",
    "#regression model do not require feature scaling \n",
    "#fitting the linear regression model to training dataset (to acheive the least possible error)\n",
    "#object is instance of the LinearRegression class\n"
   ]
  },
  {
   "cell_type": "code",
   "execution_count": null,
   "id": "d0c2c6bc-12ee-42a7-9857-015ed0459d0f",
   "metadata": {},
   "outputs": [],
   "source": [
    "from sklearn.linear_model import LinearRegression\n",
    "model = LinearRegression()\n",
    "model.fit(X_train,Y_train)\n",
    "y_pred = model.predict(X_test)\n",
    "from sklearn.metrics import r2_score    # this class compares the accuracy level\n",
    "r2 = r2_score(Y_test, y_pred)\n",
    "print(r2)"
   ]
  },
  {
   "cell_type": "code",
   "execution_count": 32,
   "id": "1f0cabea-f998-4ce7-91a3-443983acdaba",
   "metadata": {
    "tags": []
   },
   "outputs": [
    {
     "name": "stdout",
     "output_type": "stream",
     "text": [
      "[ 40817.78327049 123188.08258899  65154.46261459  63282.41035735\n",
      " 115699.87356004 108211.66453108 116635.89968866  64218.43648597\n",
      "  76386.77615802]\n"
     ]
    }
   ],
   "source": [
    "print(y_pred)"
   ]
  },
  {
   "cell_type": "code",
   "execution_count": 33,
   "id": "b91e792e-71fc-4a39-9116-acc9d895e3b1",
   "metadata": {
    "tags": []
   },
   "outputs": [
    {
     "name": "stdout",
     "output_type": "stream",
     "text": [
      "[ 37731 122391  57081  63218 116969 109431 112635  55794  83088]\n"
     ]
    }
   ],
   "source": [
    "print(Y_test)"
   ]
  },
  {
   "cell_type": "code",
   "execution_count": 34,
   "id": "58bfb347-b5e3-4204-ac7e-796009467c58",
   "metadata": {
    "tags": []
   },
   "outputs": [
    {
     "data": {
      "text/plain": [
       "array([9360.26128619])"
      ]
     },
     "execution_count": 34,
     "metadata": {},
     "output_type": "execute_result"
    }
   ],
   "source": [
    "model.coef_ #output of the model slope"
   ]
  },
  {
   "cell_type": "code",
   "execution_count": 35,
   "id": "d06b88fe-7a2c-4ae6-9a07-c180e3b133ae",
   "metadata": {
    "tags": []
   },
   "outputs": [
    {
     "data": {
      "text/plain": [
       "26777.391341197632"
      ]
     },
     "execution_count": 35,
     "metadata": {},
     "output_type": "execute_result"
    }
   ],
   "source": [
    "model.intercept_"
   ]
  },
  {
   "cell_type": "markdown",
   "id": "7c932802-3dea-41b9-8152-5f4e83634696",
   "metadata": {
    "tags": []
   },
   "source": [
    "RSS - Residual sum of square measures the variability of the obsereved data due to factor not shown by regression model.\n",
    "ESS - Deviation of y value which is explained by regression model. \n",
    "TOSS - total variability in response variability\n",
    "Rsquare how well regression model predicts regression model \n",
    "higher r2 better model. R2 range is 0-1. 1-> 100%\n",
    "Rsquare = 1 -rss/toss\n",
    "toss = rss+ess\n",
    "drawback : it increases with number of independent variable increases., sometimes lead to erroneous model.\n",
    "solution: use adjusted r square because it only increase when the MSE increase\n"
   ]
  },
  {
   "cell_type": "code",
   "execution_count": null,
   "id": "6c7f3a29-c210-4915-98af-92d468afa1bb",
   "metadata": {},
   "outputs": [],
   "source": [
    "#Visualizing the training dataset results"
   ]
  },
  {
   "cell_type": "code",
   "execution_count": 88,
   "id": "f5507873-9a80-4f3c-b33c-3f40e467bf01",
   "metadata": {
    "tags": []
   },
   "outputs": [
    {
     "name": "stdout",
     "output_type": "stream",
     "text": [
      "0.9423777652193379\n"
     ]
    }
   ],
   "source": [
    "print(model.score(X_train, Y_train)) #finding train data accuracy"
   ]
  },
  {
   "cell_type": "code",
   "execution_count": 89,
   "id": "df2f52c5-17b5-4c6f-b865-f05cb614585d",
   "metadata": {
    "tags": []
   },
   "outputs": [
    {
     "name": "stdout",
     "output_type": "stream",
     "text": [
      "0.9740993407213511\n"
     ]
    }
   ],
   "source": [
    "print(model.score(X_test, Y_test))"
   ]
  },
  {
   "cell_type": "code",
   "execution_count": 94,
   "id": "f9078f4e-20aa-4d07-a193-5267527c0af4",
   "metadata": {
    "tags": []
   },
   "outputs": [
    {
     "data": {
      "text/plain": [
       "Text(0, 0.5, 'Prediction')"
      ]
     },
     "execution_count": 94,
     "metadata": {},
     "output_type": "execute_result"
    },
    {
     "data": {
      "image/png": "[encoded data removed]",
      "text/plain": [
       "<Figure size 640x480 with 1 Axes>"
      ]
     },
     "metadata": {},
     "output_type": "display_data"
    }
   ],
   "source": [
    "plt.scatter(X_train, Y_train, color='k')\n",
    "plt.plot(X_train, model.predict(X_train), color='b')\n",
    "plt.title('training set accuracy')\n",
    "plt.xlabel('Actual')\n",
    "plt.ylabel('Prediction')"
   ]
  },
  {
   "cell_type": "code",
   "execution_count": 96,
   "id": "3c95a57a-a135-400b-bc20-e8fd5181dc9b",
   "metadata": {
    "tags": []
   },
   "outputs": [
    {
     "data": {
      "text/plain": [
       "Text(0, 0.5, 'Prediction')"
      ]
     },
     "execution_count": 96,
     "metadata": {},
     "output_type": "execute_result"
    },
    {
     "data": {
      "image/png": "[encoded data removed]",
      "text/plain": [
       "<Figure size 640x480 with 1 Axes>"
      ]
     },
     "metadata": {},
     "output_type": "display_data"
    }
   ],
   "source": [
    "plt.scatter(X_test, Y_test, color='k')\n",
    "plt.plot(X_test, model.predict(X_test), color='b')\n",
    "plt.title('testing set accuracy')\n",
    "plt.xlabel('Actual')\n",
    "plt.ylabel('Prediction')"
   ]
  },
  {
   "cell_type": "code",
   "execution_count": null,
   "id": "a6ca4db2-ba71-4f58-a1e9-03238b3b2940",
   "metadata": {},
   "outputs": [],
   "source": []
  }
 ],
 "metadata": {
  "kernelspec": {
   "display_name": "Python 3 (ipykernel)",
   "language": "python",
   "name": "python3"
  },
  "language_info": {
   "codemirror_mode": {
    "name": "ipython",
    "version": 3
   },
   "file_extension": ".py",
   "mimetype": "text/x-python",
   "name": "python",
   "nbconvert_exporter": "python",
   "pygments_lexer": "ipython3",
   "version": "3.11.5"
  }
 },
 "nbformat": 4,
 "nbformat_minor": 5
}
